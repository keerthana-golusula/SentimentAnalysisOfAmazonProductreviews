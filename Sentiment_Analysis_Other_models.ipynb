{
  "nbformat": 4,
  "nbformat_minor": 0,
  "metadata": {
    "colab": {
      "name": "Sentiment_Analysis_Other_models.ipynb",
      "provenance": [],
      "collapsed_sections": []
    },
    "kernelspec": {
      "name": "python3",
      "display_name": "Python 3"
    },
    "language_info": {
      "name": "python"
    },
    "accelerator": "GPU"
  },
  "cells": [
    {
      "cell_type": "markdown",
      "metadata": {
        "id": "d9s1iEfESPp7"
      },
      "source": [
        "Selecting the different models to fit and predict with the same Dataset used in our proposed model to compare and find which model gives best accuracy.\n",
        "\n",
        "Two vectorization techniques are taken, and used with different models like RandomForestClassifier, SGDClassifier, NaiveBayes classifiers.\n",
        "Also trained these classifiers with different learning rates and plots the accuracies using matlab plot\n"
      ]
    },
    {
      "cell_type": "code",
      "metadata": {
        "id": "BzIqDDjS5jOe"
      },
      "source": [
        "import pandas as pd\n",
        "import numpy as np"
      ],
      "execution_count": null,
      "outputs": []
    },
    {
      "cell_type": "code",
      "metadata": {
        "colab": {
          "base_uri": "https://localhost:8080/"
        },
        "id": "Jfrelcl-5uzS",
        "outputId": "261a19e2-6384-4de8-b315-ca759636291b"
      },
      "source": [
        "#Tokenization \n",
        "from sklearn.feature_extraction.text import CountVectorizer,TfidfTransformer,TfidfVectorizer\n",
        "#Naive Bayes \n",
        "from sklearn.naive_bayes import MultinomialNB\n",
        "from sklearn.naive_bayes import ComplementNB\n",
        "from sklearn.naive_bayes import BernoulliNB\n",
        "#Random Forest\n",
        "from sklearn.ensemble import RandomForestClassifier\n",
        "from sklearn.model_selection import GridSearchCV\n",
        "#LinearModel Pipeline Feature selection\n",
        "from sklearn.linear_model import SGDClassifier\n",
        "from sklearn.pipeline import Pipeline\n",
        "from sklearn.feature_selection import SelectKBest, chi2\n",
        "#Pre-processing and NLP libraries\n",
        "import nltk\n",
        "from nltk.corpus import stopwords\n",
        "from nltk.stem import PorterStemmer\n",
        "from nltk.tokenize import RegexpTokenizer\n",
        "nltk.download(\"stopwords\")\n",
        "import re\n",
        "import string\n",
        "#Visualization\n",
        "import seaborn as sns\n",
        "import matplotlib.pyplot as plt"
      ],
      "execution_count": null,
      "outputs": [
        {
          "output_type": "stream",
          "name": "stdout",
          "text": [
            "[nltk_data] Downloading package stopwords to /root/nltk_data...\n",
            "[nltk_data]   Unzipping corpora/stopwords.zip.\n"
          ]
        }
      ]
    },
    {
      "cell_type": "code",
      "metadata": {
        "colab": {
          "base_uri": "https://localhost:8080/"
        },
        "id": "yJqKgqdJ6XuN",
        "outputId": "b53ca386-c0bd-49fa-811f-55026831fbbf"
      },
      "source": [
        "from google.colab import drive\n",
        "drive.mount('/content/drive')\n",
        "URL = \"/content/drive/MyDrive/AmazonReviewDS-50k_cleaned.csv\""
      ],
      "execution_count": null,
      "outputs": [
        {
          "output_type": "stream",
          "name": "stdout",
          "text": [
            "Drive already mounted at /content/drive; to attempt to forcibly remount, call drive.mount(\"/content/drive\", force_remount=True).\n"
          ]
        }
      ]
    },
    {
      "cell_type": "code",
      "metadata": {
        "id": "Ll9HvIAF6rmo"
      },
      "source": [
        "#Dataset- Reading from URL\n",
        "df = pd.DataFrame(pd.read_csv(URL))\n",
        "#Removing Null Values from cleaned_reviews column\n",
        "df = df.dropna(axis=0,subset=['cleaned_reviews'])"
      ],
      "execution_count": null,
      "outputs": []
    },
    {
      "cell_type": "code",
      "metadata": {
        "id": "NdXdKJTx7FrU"
      },
      "source": [
        "#Tokenization Process \n",
        "vectorizer_tfidf = TfidfVectorizer(min_df= 3, sublinear_tf=True, norm='l2', ngram_range=(1,1))\n",
        "vectorizer_counter = CountVectorizer(ngram_range=(1,1))"
      ],
      "execution_count": null,
      "outputs": []
    },
    {
      "cell_type": "code",
      "metadata": {
        "id": "0mvXV3h38Bwf"
      },
      "source": [
        "#Splitting data into 80-20 division to train and test\n",
        "random = np.random.rand(len(df)) < 0.8\n",
        "df_traindata = df[random]\n",
        "df_testdata = df[~random]\n",
        "X_train = df_traindata[\"cleaned_reviews\"]\n",
        "Y_train = df_traindata[\"y\"]\n",
        "X_test = df_testdata[\"cleaned_reviews\"]\n",
        "Y_test = df_testdata[\"y\"]"
      ],
      "execution_count": null,
      "outputs": []
    },
    {
      "cell_type": "code",
      "metadata": {
        "id": "xXwZTZCf8dWm"
      },
      "source": [
        "#A common method To run and execute any classifier Model, input Classifier\n",
        "from sklearn import metrics\n",
        "def run_model_conf_matrix(classifier_clf):\n",
        "  #Training the model using FIT Method\n",
        "  classifier_model = classifier_clf.fit(X_train,Y_train)\n",
        "  predictions = classifier_model.predict(X_test)\n",
        "  #Predicting test data and printing the accuracy\n",
        "  print(np.mean(predictions== Y_test))\n",
        "  return metrics.confusion_matrix(Y_test,predictions)"
      ],
      "execution_count": null,
      "outputs": []
    },
    {
      "cell_type": "code",
      "metadata": {
        "colab": {
          "base_uri": "https://localhost:8080/"
        },
        "id": "Kps_k32z9UyE",
        "outputId": "1eaa130e-a74e-40b7-a0d6-7afa97d4f033"
      },
      "source": [
        "#Creating Model Pipelines for various models with the pattern [Tokenizer Method][SelectKBest features][Model+Paramaters]\n",
        "random_classifier = Pipeline([('vect', vectorizer_counter),('chi',  SelectKBest(chi2, k=1200)),('clf', RandomForestClassifier()),])\n",
        "print(\"Random Forest Classifier - Count Vectorizer:\")\n",
        "confusion_matrix = run_model_conf_matrix(random_classifier)\n",
        "print(confusion_matrix)"
      ],
      "execution_count": null,
      "outputs": [
        {
          "output_type": "stream",
          "name": "stdout",
          "text": [
            "Random Forest Classifier - Count Vectorizer:\n",
            "0.8277565007055029\n",
            "[[ 745   15  790]\n",
            " [ 106   12  613]\n",
            " [ 168   17 7456]]\n"
          ]
        }
      ]
    },
    {
      "cell_type": "code",
      "metadata": {
        "colab": {
          "base_uri": "https://localhost:8080/",
          "height": 317
        },
        "id": "p8rV8SiplcmQ",
        "outputId": "33694398-c5e4-424f-bfc3-13bb6f7272e4"
      },
      "source": [
        "alpha = [0.001,0.01,0.05,0.1,0.5,1,3,5,8,10,15]\n",
        "y_accuracy=[]\n",
        "for x in alpha:\n",
        "    clf = Pipeline([('vect', vectorizer_counter),('chi',  SelectKBest(chi2, k=2890)),('clf', MultinomialNB(alpha=x)),])\n",
        "    classifier_model = clf.fit(X_train,Y_train)\n",
        "    y_accuracy.append(np.mean(classifier_model.predict(X_test)== Y_test))\n",
        "plt.plot(alpha,y_accuracy,'*')\n",
        "plt.ylabel('Accuracies')\n",
        "plt.xlabel('Learning Rate')\n",
        "plt.show()\n",
        "print(y_accuracy)\n"
      ],
      "execution_count": null,
      "outputs": [
        {
          "output_type": "display_data",
          "data": {
            "image/png": "[encoded data removed]",
            "text/plain": [
              "<Figure size 432x288 with 1 Axes>"
            ]
          },
          "metadata": {
            "needs_background": "light"
          }
        },
        {
          "output_type": "stream",
          "name": "stdout",
          "text": [
            "[0.8152590203587986, 0.816569240072566, 0.8180810320499899, 0.8187865349727877, 0.8236242693005442, 0.8254384196734529, 0.8292682926829268, 0.8294698649465834, 0.8299737956057247, 0.8286635758919573, 0.8241281999596856]\n"
          ]
        }
      ]
    },
    {
      "cell_type": "code",
      "metadata": {
        "colab": {
          "base_uri": "https://localhost:8080/"
        },
        "id": "M8XtrmAKEXvP",
        "outputId": "5f4fa523-2212-42f0-9047-d25d7264526d"
      },
      "source": [
        "random_classifier2 = Pipeline([('vect',vectorizer_tfidf),('chi',  SelectKBest(chi2, k=1200)),('clf', RandomForestClassifier(bootstrap=True, ccp_alpha=0.0,\n",
        "                       criterion='gini', \n",
        "                   n_estimators=100,max_depth=80)),])\n",
        "print(\"Random Forest Classifier - TDF-IDF Vectorizer:\")\n",
        "confusion_matrix = run_model_conf_matrix(random_classifier2)\n",
        "print(confusion_matrix)"
      ],
      "execution_count": null,
      "outputs": [
        {
          "output_type": "stream",
          "name": "stdout",
          "text": [
            "Random Forest Classifier - TDF-IDF Vectorizer:\n",
            "0.8291675065510986\n",
            "[[ 687    3  860]\n",
            " [  95    2  634]\n",
            " [ 100    3 7538]]\n"
          ]
        }
      ]
    },
    {
      "cell_type": "code",
      "metadata": {
        "colab": {
          "base_uri": "https://localhost:8080/"
        },
        "id": "2hflFQLWGHKc",
        "outputId": "04366f52-085b-4847-9696-916c6f4cbc14"
      },
      "source": [
        "multinomialNB_classifier = Pipeline([('vect', vectorizer_counter),('chi',  SelectKBest(chi2, k=2890)),('clf', MultinomialNB(alpha=1)),])\n",
        "print(\"multinomialNB_classifier - Count Vectorizer:\")\n",
        "confusion_matrix = run_model_conf_matrix(multinomialNB_classifier)\n",
        "print(confusion_matrix)"
      ],
      "execution_count": null,
      "outputs": [
        {
          "output_type": "stream",
          "name": "stdout",
          "text": [
            "multinomialNB_classifier - Count Vectorizer:\n",
            "0.8254384196734529\n",
            "[[ 932   63  555]\n",
            " [ 157   74  500]\n",
            " [ 344  113 7184]]\n"
          ]
        }
      ]
    },
    {
      "cell_type": "code",
      "metadata": {
        "colab": {
          "base_uri": "https://localhost:8080/"
        },
        "id": "nlPRzbYyQ-px",
        "outputId": "ab533a3e-785b-48f2-83b2-5f9fefc172a0"
      },
      "source": [
        "multinomialNB_classifier2 = Pipeline([('vect', vectorizer_tfidf),('chi',  SelectKBest(chi2, k=2890)),('clf', MultinomialNB(alpha=1)),])\n",
        "print(\"multinomialNB_classifier - Count Vectorizer:\")\n",
        "confusion_matrix = run_model_conf_matrix(multinomialNB_classifier2)\n",
        "print(confusion_matrix)\n",
        "\n"
      ],
      "execution_count": null,
      "outputs": [
        {
          "output_type": "stream",
          "name": "stdout",
          "text": [
            "multinomialNB_classifier - Count Vectorizer:\n",
            "0.8041725458576899\n",
            "[[ 370    0 1180]\n",
            " [  27    0  704]\n",
            " [  32    0 7609]]\n"
          ]
        }
      ]
    },
    {
      "cell_type": "code",
      "metadata": {
        "colab": {
          "base_uri": "https://localhost:8080/",
          "height": 317
        },
        "id": "wUmP-qhJmwDD",
        "outputId": "87e9b9f5-3b99-4cac-97e2-b8c18b993c29"
      },
      "source": [
        "alpha = [0.001,0.01,0.05,0.1,0.5,1,3,5,8,10,15]\n",
        "y_accuracy=[]\n",
        "for x in alpha:\n",
        "    clf = Pipeline([('vect', vectorizer_tfidf),('chi',  SelectKBest(chi2, k=2890)),('clf', MultinomialNB(alpha=x)),])\n",
        "    classifier_model = clf.fit(X_train,Y_train)\n",
        "    y_accuracy.append(np.mean(classifier_model.predict(X_test)== Y_test))\n",
        "plt.plot(alpha,y_accuracy,'*')\n",
        "plt.ylabel('Accuracies')\n",
        "plt.xlabel('Learning Rate')\n",
        "plt.show()\n",
        "print(y_accuracy)"
      ],
      "execution_count": null,
      "outputs": [
        {
          "output_type": "display_data",
          "data": {
            "image/png": "[encoded data removed]",
            "text/plain": [
              "<Figure size 432x288 with 1 Axes>"
            ]
          },
          "metadata": {
            "needs_background": "light"
          }
        },
        {
          "output_type": "stream",
          "name": "stdout",
          "text": [
            "[0.8099173553719008, 0.8100181415037291, 0.8107236444265269, 0.8104212860310421, 0.8078008466035074, 0.8041725458576899, 0.7908687764563596, 0.7825035275146139, 0.7741382785728683, 0.7729288449909293, 0.7706107639588793]\n"
          ]
        }
      ]
    },
    {
      "cell_type": "code",
      "metadata": {
        "colab": {
          "base_uri": "https://localhost:8080/"
        },
        "id": "jLNpxmRUH9Qj",
        "outputId": "4f9a6bbe-5e85-432f-e7fd-b82a587175d4"
      },
      "source": [
        "complementNB_classifier = Pipeline([('vect', vectorizer_counter),('chi',  SelectKBest(chi2, k=2890)),('clf', ComplementNB(alpha=1)),])\n",
        "print(\"complementNB_classifier - Count Vectorizer:\")\n",
        "confusion_matrix = run_model_conf_matrix(complementNB_classifier)\n",
        "print(confusion_matrix)"
      ],
      "execution_count": null,
      "outputs": [
        {
          "output_type": "stream",
          "name": "stdout",
          "text": [
            "complementNB_classifier - Count Vectorizer:\n",
            "0.7916750655109857\n",
            "[[1233   47  270]\n",
            " [ 299   72  360]\n",
            " [ 924  167 6550]]\n"
          ]
        }
      ]
    },
    {
      "cell_type": "code",
      "metadata": {
        "colab": {
          "base_uri": "https://localhost:8080/",
          "height": 317
        },
        "id": "2rjxWcbynBb3",
        "outputId": "8e83b84b-448f-4fe1-f989-1fb06a4e5779"
      },
      "source": [
        "alpha = [0.001,0.01,0.05,0.1,0.5,1,3,5,8,10,15]\n",
        "y_accuracy=[]\n",
        "for x in alpha:\n",
        "    clf = Pipeline([('vect', vectorizer_counter),('chi',  SelectKBest(chi2, k=2890)),('clf', ComplementNB(alpha=x)),])\n",
        "    classifier_model = clf.fit(X_train,Y_train)\n",
        "    y_accuracy.append(np.mean(classifier_model.predict(X_test)== Y_test))\n",
        "plt.plot(alpha,y_accuracy,'*')\n",
        "plt.ylabel('Accuracies')\n",
        "plt.xlabel('Learning Rate')\n",
        "plt.show()\n",
        "print(y_accuracy)"
      ],
      "execution_count": null,
      "outputs": [
        {
          "output_type": "display_data",
          "data": {
            "image/png": "[encoded data removed]",
            "text/plain": [
              "<Figure size 432x288 with 1 Axes>"
            ]
          },
          "metadata": {
            "needs_background": "light"
          }
        },
        {
          "output_type": "stream",
          "name": "stdout",
          "text": [
            "[0.7827050997782705, 0.7839145333602097, 0.7851239669421488, 0.78562789760129, 0.7889538399516226, 0.7916750655109857, 0.801048175771014, 0.8066921991533965, 0.8113283612174965, 0.8147550896996574, 0.8207014714775247]\n"
          ]
        }
      ]
    },
    {
      "cell_type": "code",
      "metadata": {
        "colab": {
          "base_uri": "https://localhost:8080/"
        },
        "id": "igqmuE4sRf5t",
        "outputId": "12fe5c9f-3898-468c-9d93-e93e424a78be"
      },
      "source": [
        "complementNB_classifier2 = Pipeline([('vect', vectorizer_tfidf),('chi',  SelectKBest(chi2, k=2890)),('clf', ComplementNB(alpha=1)),])\n",
        "print(\"complementNB_classifier2 - vectorizer_tfidf:\")\n",
        "confusion_matrix = run_model_conf_matrix(complementNB_classifier2)\n",
        "print(confusion_matrix)"
      ],
      "execution_count": null,
      "outputs": [
        {
          "output_type": "stream",
          "name": "stdout",
          "text": [
            "complementNB_classifier2 - vectorizer_tfidf:\n",
            "0.7881475508969966\n",
            "[[1265   54  231]\n",
            " [ 352   77  302]\n",
            " [ 961  202 6478]]\n"
          ]
        }
      ]
    },
    {
      "cell_type": "code",
      "metadata": {
        "colab": {
          "base_uri": "https://localhost:8080/",
          "height": 317
        },
        "id": "O8NIyZp0nIgV",
        "outputId": "5143ff4f-f2d5-4279-e6ac-c9120fe6bb04"
      },
      "source": [
        "alpha = [0.001,0.01,0.05,0.1,0.5,1,3,5,8,10,15]\n",
        "y_accuracy=[]\n",
        "for x in alpha:\n",
        "    clf = Pipeline([('vect', vectorizer_tfidf),('chi',  SelectKBest(chi2, k=2890)),('clf', ComplementNB(alpha=x)),])\n",
        "    classifier_model = clf.fit(X_train,Y_train)\n",
        "    y_accuracy.append(np.mean(classifier_model.predict(X_test)== Y_test))\n",
        "plt.plot(alpha,y_accuracy,'*')\n",
        "plt.ylabel('Accuracies')\n",
        "plt.xlabel('Learning Rate')\n",
        "plt.show()\n",
        "print(y_accuracy)"
      ],
      "execution_count": null,
      "outputs": [
        {
          "output_type": "display_data",
          "data": {
            "image/png": "[encoded data removed]",
            "text/plain": [
              "<Figure size 432x288 with 1 Axes>"
            ]
          },
          "metadata": {
            "needs_background": "light"
          }
        },
        {
          "output_type": "stream",
          "name": "stdout",
          "text": [
            "[0.7730296311227575, 0.7730296311227575, 0.7745414231001814, 0.7756500705502922, 0.7825035275146139, 0.7881475508969966, 0.8069945575488813, 0.8201975408183834, 0.826244708728079, 0.8245313444869986, 0.8112275750856682]\n"
          ]
        }
      ]
    },
    {
      "cell_type": "code",
      "metadata": {
        "colab": {
          "base_uri": "https://localhost:8080/"
        },
        "id": "E-KJL45PIoNG",
        "outputId": "0c1e7d22-fb57-42dc-f141-cf1020881752"
      },
      "source": [
        "bernoulliNB_classifier = Pipeline([('vect', vectorizer_counter),('chi',  SelectKBest(chi2, k=2890)),('clf', BernoulliNB(alpha=1)),])\n",
        "print(\"bernoulliNB_classifier - Count Vectorizer:\")\n",
        "confusion_matrix = run_model_conf_matrix(bernoulliNB_classifier)\n",
        "print(confusion_matrix)\n"
      ],
      "execution_count": null,
      "outputs": [
        {
          "output_type": "stream",
          "name": "stdout",
          "text": [
            "bernoulliNB_classifier - Count Vectorizer:\n",
            "0.7499496069340859\n",
            "[[ 714   98  738]\n",
            " [ 124  135  472]\n",
            " [ 351  698 6592]]\n"
          ]
        }
      ]
    },
    {
      "cell_type": "code",
      "metadata": {
        "colab": {
          "base_uri": "https://localhost:8080/",
          "height": 318
        },
        "id": "9W33SRaqnY1f",
        "outputId": "bced61b2-d836-4138-9c95-0af3d8be7597"
      },
      "source": [
        "alpha = [0.001,0.01,0.05,0.1,0.5,1,3,5,8,10,15]\n",
        "y_accuracy=[]\n",
        "for x in alpha:\n",
        "    clf = Pipeline([('vect', vectorizer_counter),('chi',  SelectKBest(chi2, k=2890)),('clf', BernoulliNB(alpha=x)),])\n",
        "    classifier_model = clf.fit(X_train,Y_train)\n",
        "    y_accuracy.append(np.mean(classifier_model.predict(X_test)== Y_test))\n",
        "plt.plot(alpha,y_accuracy,'*')\n",
        "plt.ylabel('Accuracies')\n",
        "plt.xlabel('Learning Rate')\n",
        "plt.show()\n",
        "print(y_accuracy)"
      ],
      "execution_count": null,
      "outputs": [
        {
          "output_type": "display_data",
          "data": {
            "image/png": "[encoded data removed]",
            "text/plain": [
              "<Figure size 432x288 with 1 Axes>"
            ]
          },
          "metadata": {
            "needs_background": "light"
          }
        },
        {
          "output_type": "stream",
          "name": "stdout",
          "text": [
            "[0.7452126587381577, 0.7468252368474098, 0.746926022979238, 0.7471275952428946, 0.7481354565611772, 0.7499496069340859, 0.7549889135254989, 0.755795202580125, 0.7589195726668011, 0.7588187865349728, 0.7614392259625076]\n"
          ]
        }
      ]
    },
    {
      "cell_type": "code",
      "metadata": {
        "colab": {
          "base_uri": "https://localhost:8080/"
        },
        "id": "nA1MAHUmR1PN",
        "outputId": "f49946ac-19a0-4285-d5d7-999f50b4718e"
      },
      "source": [
        "bernoulliNB_classifier2 = Pipeline([('vect', vectorizer_tfidf),('chi',  SelectKBest(chi2, k=2890)),('clf', BernoulliNB(alpha=1)),])\n",
        "print(\"bernoulliNB_classifier2 - vectorizer_tfidf:\")\n",
        "confusion_matrix = run_model_conf_matrix(bernoulliNB_classifier2)\n",
        "print(confusion_matrix)\n"
      ],
      "execution_count": null,
      "outputs": [
        {
          "output_type": "stream",
          "name": "stdout",
          "text": [
            "bernoulliNB_classifier2 - vectorizer_tfidf:\n",
            "0.742289860915138\n",
            "[[ 703  135  712]\n",
            " [ 104  171  456]\n",
            " [ 299  851 6491]]\n"
          ]
        }
      ]
    },
    {
      "cell_type": "code",
      "metadata": {
        "colab": {
          "base_uri": "https://localhost:8080/",
          "height": 317
        },
        "id": "VVBLHxawnmuh",
        "outputId": "3a5d1f63-fde4-4bd7-9b2f-9792c61fdd1b"
      },
      "source": [
        "alpha = [0.001,0.01,0.05,0.1,0.5,1,3,5,8,10,15]\n",
        "y_accuracy=[]\n",
        "for x in alpha:\n",
        "    clf = Pipeline([('vect', vectorizer_tfidf),('chi',  SelectKBest(chi2, k=2890)),('clf', BernoulliNB(alpha=x)),])\n",
        "    classifier_model = clf.fit(X_train,Y_train)\n",
        "    y_accuracy.append(np.mean(classifier_model.predict(X_test)== Y_test))\n",
        "plt.plot(alpha,y_accuracy,'*')\n",
        "plt.ylabel('Accuracies')\n",
        "plt.xlabel('Learning Rate')\n",
        "plt.show()\n",
        "print(y_accuracy)"
      ],
      "execution_count": null,
      "outputs": [
        {
          "output_type": "display_data",
          "data": {
            "image/png": "[encoded data removed]",
            "text/plain": [
              "<Figure size 432x288 with 1 Axes>"
            ]
          },
          "metadata": {
            "needs_background": "light"
          }
        },
        {
          "output_type": "stream",
          "name": "stdout",
          "text": [
            "[0.7464220923200967, 0.7453134448699859, 0.7453134448699859, 0.7447087280790163, 0.7432977222334207, 0.742289860915138, 0.743801652892562, 0.744607941947188, 0.7470268091110663, 0.7464220923200967, 0.748437814956662]\n"
          ]
        }
      ]
    },
    {
      "cell_type": "code",
      "metadata": {
        "colab": {
          "base_uri": "https://localhost:8080/"
        },
        "id": "nPDGlJgPJYh0",
        "outputId": "c20e4b02-9607-4d5d-8fe4-ffbbeab7fa6a"
      },
      "source": [
        "SGDC_classifier = Pipeline([('vect', vectorizer_counter),('chi',  SelectKBest(chi2, k=1800)),('clf', SGDClassifier(alpha=0.00001)),])\n",
        "print(\"SGDC_classifier - Count Vectorizer:\")\n",
        "confusion_matrix = run_model_conf_matrix(SGDC_classifier)\n",
        "print(confusion_matrix)"
      ],
      "execution_count": null,
      "outputs": [
        {
          "output_type": "stream",
          "name": "stdout",
          "text": [
            "SGDC_classifier - Count Vectorizer:\n",
            "0.8361217496472485\n",
            "[[ 983   53  514]\n",
            " [ 188   61  482]\n",
            " [ 289  100 7252]]\n"
          ]
        }
      ]
    },
    {
      "cell_type": "code",
      "metadata": {
        "colab": {
          "base_uri": "https://localhost:8080/",
          "height": 317
        },
        "id": "9xH_rb0rn3Mi",
        "outputId": "a77ce368-b903-4af5-8a37-9142c3619a55"
      },
      "source": [
        "alpha = [0.001,0.01,0.05,0.1,0.5,1,3,5,8,10,15]\n",
        "y_accuracy=[]\n",
        "for x in alpha:\n",
        "    clf = Pipeline([('vect', vectorizer_counter),('chi',  SelectKBest(chi2, k=2890)),('clf', SGDClassifier(alpha=x)),])\n",
        "    classifier_model = clf.fit(X_train,Y_train)\n",
        "    y_accuracy.append(np.mean(classifier_model.predict(X_test)== Y_test))\n",
        "plt.plot(alpha,y_accuracy,'*')\n",
        "plt.ylabel('Accuracies')\n",
        "plt.xlabel('Learning Rate')\n",
        "plt.show()\n",
        "print(y_accuracy)"
      ],
      "execution_count": null,
      "outputs": [
        {
          "output_type": "display_data",
          "data": {
            "image/png": "[encoded data removed]",
            "text/plain": [
              "<Figure size 432x288 with 1 Axes>"
            ]
          },
          "metadata": {
            "needs_background": "light"
          }
        },
        {
          "output_type": "stream",
          "name": "stdout",
          "text": [
            "[0.8351138883289659, 0.8107236444265269, 0.7919774239064705, 0.7794799435597661, 0.770106833299738, 0.770106833299738, 0.770106833299738, 0.770106833299738, 0.770106833299738, 0.770106833299738, 0.770106833299738]\n"
          ]
        }
      ]
    },
    {
      "cell_type": "code",
      "metadata": {
        "colab": {
          "base_uri": "https://localhost:8080/"
        },
        "id": "p73BzjAESAYC",
        "outputId": "5f5b1c06-0ed3-416b-ef61-92db1d96f710"
      },
      "source": [
        "SGDC_classifier2 = Pipeline([('vect', vectorizer_tfidf),('chi',  SelectKBest(chi2, k=2890)),('clf', SGDClassifier(alpha=1)),])\n",
        "print(\"SGDC_classifier2 - vectorizer_tfidf:\")\n",
        "confusion_matrix = run_model_conf_matrix(SGDC_classifier2)\n",
        "print(confusion_matrix)\n"
      ],
      "execution_count": null,
      "outputs": [
        {
          "output_type": "stream",
          "name": "stdout",
          "text": [
            "SGDC_classifier2 - vectorizer_tfidf:\n",
            "0.770106833299738\n",
            "[[   0    0 1550]\n",
            " [   0    0  731]\n",
            " [   0    0 7641]]\n"
          ]
        }
      ]
    },
    {
      "cell_type": "code",
      "metadata": {
        "colab": {
          "base_uri": "https://localhost:8080/",
          "height": 317
        },
        "id": "05G91fdIoD1-",
        "outputId": "9eef7abd-f875-46fe-a5f3-06eaf978821c"
      },
      "source": [
        "alpha = [0.001,0.01,0.05,0.1,0.5,1,3,5,8,10,15]\n",
        "y_accuracy=[]\n",
        "for x in alpha:\n",
        "    clf = Pipeline([('vect', vectorizer_tfidf),('chi',  SelectKBest(chi2, k=2890)),('clf', SGDClassifier(alpha=x)),])\n",
        "    classifier_model = clf.fit(X_train,Y_train)\n",
        "    y_accuracy.append(np.mean(classifier_model.predict(X_test)== Y_test))\n",
        "plt.plot(alpha,y_accuracy,'*')\n",
        "plt.ylabel('Accuracies')\n",
        "plt.xlabel('Learning Rate')\n",
        "plt.show()\n",
        "print(y_accuracy)"
      ],
      "execution_count": null,
      "outputs": [
        {
          "output_type": "display_data",
          "data": {
            "image/png": "[encoded data removed]",
            "text/plain": [
              "<Figure size 432x288 with 1 Axes>"
            ]
          },
          "metadata": {
            "needs_background": "light"
          }
        },
        {
          "output_type": "stream",
          "name": "stdout",
          "text": [
            "[0.7804878048780488, 0.770106833299738, 0.770106833299738, 0.770106833299738, 0.770106833299738, 0.770106833299738, 0.770106833299738, 0.770106833299738, 0.770106833299738, 0.770106833299738, 0.770106833299738]\n"
          ]
        }
      ]
    }
  ]
}