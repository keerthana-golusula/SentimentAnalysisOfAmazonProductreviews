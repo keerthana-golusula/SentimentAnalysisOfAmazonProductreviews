{
  "nbformat": 4,
  "nbformat_minor": 0,
  "metadata": {
    "colab": {
      "name": "DataCleaning_AmazonDS.ipynb",
      "provenance": [],
      "collapsed_sections": []
    },
    "kernelspec": {
      "name": "python3",
      "display_name": "Python 3"
    },
    "language_info": {
      "name": "python"
    }
  },
  "cells": [
    {
      "cell_type": "code",
      "metadata": {
        "colab": {
          "base_uri": "https://localhost:8080/"
        },
        "id": "vWejK0E79kfZ",
        "outputId": "f5970828-8c1f-47ac-b457-128933be2bd8"
      },
      "source": [
        "#import required packages for data cleaning\n",
        "\n",
        "import pandas as pd\n",
        "import numpy as np\n",
        "\n",
        "from nltk.corpus import stopwords\n",
        "from nltk.stem import PorterStemmer\n",
        "\n",
        "import nltk\n",
        "import re\n",
        "import string\n",
        "nltk.download(\"stopwords\")"
      ],
      "execution_count": null,
      "outputs": [
        {
          "output_type": "stream",
          "name": "stdout",
          "text": [
            "[nltk_data] Downloading package stopwords to /root/nltk_data...\n",
            "[nltk_data]   Unzipping corpora/stopwords.zip.\n"
          ]
        },
        {
          "output_type": "execute_result",
          "data": {
            "text/plain": [
              "True"
            ]
          },
          "metadata": {},
          "execution_count": 1
        }
      ]
    },
    {
      "cell_type": "code",
      "metadata": {
        "id": "c_SWQVv91XGD"
      },
      "source": [
        "# split the review text into different label/calsses as positive - 2, neutral - 1 and negative - 0. \n",
        "def classify(x):\n",
        "    if x == 5.0 or x==4.0:\n",
        "        return 2\n",
        "    if x==3.0:\n",
        "        return 1 \n",
        "    return 0"
      ],
      "execution_count": null,
      "outputs": []
    },
    {
      "cell_type": "code",
      "metadata": {
        "id": "7ZJx5JLG1hBV"
      },
      "source": [
        "def clean_dataframe(df):\n",
        "  # create a new column with name as y for label\n",
        "  df['y'] = df['overall'].apply(classify)\n",
        "\n",
        "  # deleting all uneccesary columns \n",
        "  df = df.drop(labels=['Unnamed: 0', 'verified','asin' ,'style','reviewerName',  'description','title', 'rank', 'main_cat' ],axis=1)\n",
        "  \n",
        "  # deleting null values from  NaN values from the column reviewText\n",
        "  df = df.dropna(axis=0, subset=['reviewText'])\n",
        "  return df"
      ],
      "execution_count": null,
      "outputs": []
    },
    {
      "cell_type": "code",
      "metadata": {
        "id": "k_kIbOzo1g9A"
      },
      "source": [
        "# changes the given text to another text with no punctuations like '!\"#$%&\\'()*+,-./:;<=>?@[\\\\]^_`{|}~'\n",
        "def remove_punctuation(text):\n",
        "    no_punct=[words for words in text if words not in string.punctuation]\n",
        "    words_wo_punct=''.join(no_punct)\n",
        "    return words_wo_punct"
      ],
      "execution_count": null,
      "outputs": []
    },
    {
      "cell_type": "code",
      "metadata": {
        "id": "-UpK8zxd1g58"
      },
      "source": [
        "def text_process(df):\n",
        "  # Removing all the punctuations from the words, and changing the words to lower case to maintain uniformity\n",
        "  df['reviewText']=df['reviewText'].apply(lambda x: remove_punctuation(x.lower()))\n",
        "  \n",
        "  stemmer = PorterStemmer()\n",
        "  \n",
        "  words = stopwords.words(\"english\") \n",
        "  df['cleaned_reviews'] = df['reviewText'].apply(lambda x: \" \".join([stemmer.stem(i) for i in re.sub(\"[^a-zA-Z]\", \" \", x).split() if i not in words]).lower())\n",
        "  return df"
      ],
      "execution_count": null,
      "outputs": []
    },
    {
      "cell_type": "code",
      "metadata": {
        "id": "tg3E_rRH1g24"
      },
      "source": [
        "def process_df(df):\n",
        "  df = clean_dataframe(df)\n",
        "  df = text_process(df)\n",
        "  return df"
      ],
      "execution_count": null,
      "outputs": []
    },
    {
      "cell_type": "code",
      "metadata": {
        "colab": {
          "base_uri": "https://localhost:8080/"
        },
        "id": "0WvszizE2hln",
        "outputId": "87d79f6a-fa08-4131-abc2-01ef564b4aa8"
      },
      "source": [
        "from google.colab import drive\n",
        "drive.mount(\"/content/drive\")"
      ],
      "execution_count": null,
      "outputs": [
        {
          "output_type": "stream",
          "name": "stdout",
          "text": [
            "Drive already mounted at /content/drive; to attempt to forcibly remount, call drive.mount(\"/content/drive\", force_remount=True).\n"
          ]
        }
      ]
    },
    {
      "cell_type": "code",
      "metadata": {
        "id": "CAvnY5Mg1g0B"
      },
      "source": [
        "#dataset links source and destination\n",
        "\n",
        "URL_UNCLEAN = \"/content/drive/MyDrive/AmazonReviewDS-50k.csv\"\n",
        "URL_CLEAN = \"/content/drive/MyDrive/AmazonReviewDS-50k_cleaned.csv\""
      ],
      "execution_count": null,
      "outputs": []
    },
    {
      "cell_type": "code",
      "metadata": {
        "id": "qo49snCZ1gvz"
      },
      "source": [
        "# method to read data from url, clean it and write cleaned data to a csv file.\n",
        "def main(URL_CLEAN=URL_CLEAN, URL_UNCLEAN=URL_UNCLEAN):\n",
        "  df_unclean = pd.read_csv(URL_UNCLEAN)\n",
        "  print(\"UNCLEANED DATASET HEAD:\\n\",df_unclean.head(),\"\\n\")\n",
        "\n",
        "  df_clean = process_df(df_unclean)\n",
        "  print(\"CLEANED DATASET HEAD:\\n\",df_clean.head(),\"\\n\")\n",
        "\n",
        "  #writing to dataframe\n",
        "  df_clean.to_csv(URL_CLEAN)"
      ],
      "execution_count": null,
      "outputs": []
    },
    {
      "cell_type": "code",
      "metadata": {
        "colab": {
          "base_uri": "https://localhost:8080/"
        },
        "id": "icJ5LvQt1gjs",
        "outputId": "af6f28dd-6ad0-452a-ba3a-d500de8dfe4d"
      },
      "source": [
        "main()"
      ],
      "execution_count": null,
      "outputs": [
        {
          "output_type": "stream",
          "name": "stdout",
          "text": [
            "UNCLEANED DATASET HEAD:\n",
            "    Unnamed: 0  ...              main_cat\n",
            "0     4359171  ...  Home Audio & Theater\n",
            "1     3938786  ...        Camera & Photo\n",
            "2     6176764  ...       All Electronics\n",
            "3     1546547  ...       All Electronics\n",
            "4     3178737  ...       All Electronics\n",
            "\n",
            "[5 rows x 12 columns] \n",
            "\n",
            "CLEANED DATASET HEAD:\n",
            "    overall  ...                                    cleaned_reviews\n",
            "0      5.0  ...              love thing suppli batteri dead replac\n",
            "1      5.0  ...                      great valu good rang easi use\n",
            "2      5.0  ...          smallest thumb drive ever cant beat price\n",
            "3      5.0  ...  bought webcam mostli price fact logitech prett...\n",
            "4      5.0  ...  got mom she tech savvi set she problem one tim...\n",
            "\n",
            "[5 rows x 5 columns] \n",
            "\n"
          ]
        }
      ]
    },
    {
      "cell_type": "code",
      "metadata": {
        "id": "ft7hJh_i3HTa"
      },
      "source": [
        ""
      ],
      "execution_count": null,
      "outputs": []
    }
  ]
}